{
 "cells": [
  {
   "cell_type": "code",
   "execution_count": 6,
   "metadata": {
    "collapsed": false,
    "deletable": true,
    "editable": true
   },
   "outputs": [],
   "source": [
    "sc.stop()\n",
    "from pyspark import SparkConf, SparkContext\n",
    "conf = (SparkConf()\n",
    "         .setMaster(\"local\")\n",
    "         .setAppName(\"My app\")\n",
    "         .set(\"spark.driver.memory\",\"11g\")\n",
    "         .set(\"spark.executor.memory\",\"11g\")\n",
    "       )\n",
    "sc = SparkContext(conf = conf)"
   ]
  },
  {
   "cell_type": "code",
   "execution_count": null,
   "metadata": {
    "collapsed": false,
    "deletable": true,
    "editable": true
   },
   "outputs": [
    {
     "name": "stderr",
     "output_type": "stream",
     "text": [
      "INFO:engine:Starting up the Recommendation Engine: \n",
      "INFO:engine:Loading Ratings data...\n",
      "INFO:engine:Loading Movies data...\n",
      "INFO:engine:Counting movie ratings...\n",
      "INFO:engine:Training the ALS model...\n",
      "INFO:engine:ALS model built!\n",
      "[06/Feb/2017:21:00:27] ENGINE Bus STARTING\n",
      "INFO:cherrypy.error:[06/Feb/2017:21:00:27] ENGINE Bus STARTING\n",
      "[06/Feb/2017:21:00:27] ENGINE Started monitor thread '_TimeoutMonitor'.\n",
      "INFO:cherrypy.error:[06/Feb/2017:21:00:27] ENGINE Started monitor thread '_TimeoutMonitor'.\n",
      "[06/Feb/2017:21:00:27] ENGINE Started monitor thread 'Autoreloader'.\n",
      "INFO:cherrypy.error:[06/Feb/2017:21:00:27] ENGINE Started monitor thread 'Autoreloader'.\n",
      "[06/Feb/2017:21:00:27] ENGINE Serving on http://0.0.0.0:5432\n",
      "INFO:cherrypy.error:[06/Feb/2017:21:00:27] ENGINE Serving on http://0.0.0.0:5432\n",
      "[06/Feb/2017:21:00:27] ENGINE Bus STARTED\n",
      "INFO:cherrypy.error:[06/Feb/2017:21:00:27] ENGINE Bus STARTED\n",
      "127.0.0.1 - - [06/Feb/2017:21:02:25 +0000] \"GET / HTTP/1.1\" 404 233 \"-\" \"curl/7.35.0\"\n",
      "127.0.0.1 - - [06/Feb/2017:21:02:32 +0000] \"GET /10 HTTP/1.1\" 404 233 \"-\" \"curl/7.35.0\"\n",
      "127.0.0.1 - - [06/Feb/2017:21:02:34 +0000] \"GET / HTTP/1.1\" 404 233 \"-\" \"curl/7.35.0\"\n"
     ]
    }
   ],
   "source": [
    "import time, sys, cherrypy, os\n",
    "from paste.translogger import TransLogger\n",
    "from app import create_app\n",
    "from pyspark import SparkContext, SparkConf\n",
    " \n",
    "def init_spark_context():\n",
    "    # load spark context\n",
    "    conf = SparkConf().setAppName(\"movie_recommendation-server\")\n",
    "    # IMPORTANT: pass aditional Python modules to each worker\n",
    "    sc = SparkContext(conf=conf, pyFiles=['engine.py', 'app.py'])\n",
    " \n",
    "    return sc\n",
    " \n",
    " \n",
    "def run_server(app):\n",
    " \n",
    "    # Enable WSGI access logging via Paste\n",
    "    app_logged = TransLogger(app)\n",
    " \n",
    "    # Mount the WSGI callable object (app) on the root directory\n",
    "    cherrypy.tree.graft(app_logged, '/')\n",
    " \n",
    "    # Set the configuration of the web server\n",
    "    cherrypy.config.update({\n",
    "        'engine.autoreload.on': True,\n",
    "        'log.screen': True,\n",
    "        'server.socket_port': 5432,\n",
    "        'server.socket_host': '0.0.0.0'\n",
    "    })\n",
    " \n",
    "    # Start the CherryPy WSGI web server\n",
    "    cherrypy.engine.start()\n",
    "    cherrypy.engine.block()\n",
    " \n",
    " \n",
    "if __name__ == \"__main__\":\n",
    "    # Init spark context and load libraries\n",
    "    #sc = init_spark_context()\n",
    "    dataset_path = os.path.join('datasets', 'ml-latest')\n",
    "    app = create_app(sc, dataset_path)\n",
    " \n",
    "    # start web server\n",
    "    run_server(app)"
   ]
  },
  {
   "cell_type": "code",
   "execution_count": 2,
   "metadata": {
    "collapsed": false,
    "deletable": true,
    "editable": true
   },
   "outputs": [],
   "source": []
  },
  {
   "cell_type": "code",
   "execution_count": null,
   "metadata": {
    "collapsed": true,
    "deletable": true,
    "editable": true
   },
   "outputs": [],
   "source": []
  }
 ],
 "metadata": {
  "kernelspec": {
   "display_name": "Python 2",
   "language": "python",
   "name": "python2"
  }
 },
 "nbformat": 4,
 "nbformat_minor": 2
}
